{
 "cells": [
  {
   "cell_type": "code",
   "execution_count": 2,
   "id": "8fbc75e2-1a09-4a4e-8a3c-72cc20f58bbd",
   "metadata": {},
   "outputs": [],
   "source": [
    "import numpy as np"
   ]
  },
  {
   "cell_type": "markdown",
   "id": "f5005b99-9d7c-4804-aa85-f179c2ec7b43",
   "metadata": {},
   "source": [
    "##### Task\n",
    "Find error of target function at point (T1,T2)"
   ]
  },
  {
   "cell_type": "code",
   "execution_count": 3,
   "id": "65300f4f-9cd4-4343-9df7-95ff9bd53082",
   "metadata": {},
   "outputs": [],
   "source": [
    "def target_function (t1, t2):\n",
    "    return np.sin(t1 + t2)\n",
    "T1 = np.pi/2\n",
    "T2 = np.pi/4\n",
    "t_err = 0.25 "
   ]
  },
  {
   "cell_type": "markdown",
   "id": "7d17861f-ebe8-4539-ac16-703de142a4db",
   "metadata": {},
   "source": [
    "##### Solution"
   ]
  },
  {
   "cell_type": "code",
   "execution_count": 7,
   "id": "e2684e70-a577-441e-8e82-2b82c4f79c0f",
   "metadata": {},
   "outputs": [
    {
     "name": "stdout",
     "output_type": "stream",
     "text": [
      "D(u) = 0.354\n"
     ]
    }
   ],
   "source": [
    "def derivative_t1_t2 (t1, t2):\n",
    "    return np.cos(t1 + t2)\n",
    "\n",
    "ans = abs(derivative_t1_t2(T1, T2)) * t_err + abs(derivative_t1_t2(T1, T2)) * t_err\n",
    "print(f\"D(u) = {ans.round(3)}\")"
   ]
  }
 ],
 "metadata": {
  "kernelspec": {
   "display_name": "Python 3 (ipykernel)",
   "language": "python",
   "name": "python3"
  },
  "language_info": {
   "codemirror_mode": {
    "name": "ipython",
    "version": 3
   },
   "file_extension": ".py",
   "mimetype": "text/x-python",
   "name": "python",
   "nbconvert_exporter": "python",
   "pygments_lexer": "ipython3",
   "version": "3.11.3"
  }
 },
 "nbformat": 4,
 "nbformat_minor": 5
}
